{
 "cells": [
  {
   "cell_type": "markdown",
   "metadata": {},
   "source": [
    "# Neutron Diffusion in Python \n",
    "\n",
    "This notebook is an entirely self-contained solution to a basic [neutron diffision](http://mragheb.com/NPRE%20402%20ME%20405%20Nuclear%20Power%20Engineering/One%20Group%20Reactor%20Theory.pdf) equation for a reactor *rx* made up of a single fuel rod. The one-group diffusion equation that we will be stepping through time and space is, \n",
    "\n",
    "$\\frac{1}{v}\\frac{\\partial \\phi}{\\partial t} = D \\nabla^2 \\phi + (k - 1) \\Sigma_a \\phi + S$\n",
    "\n",
    "where \n",
    "\n",
    "* $\\phi$ is the neutron flux [$n/\\text{cm}^2/\\text{s}$],\n",
    "* $D$ is the diffusion coefficient [$\\text{cm}$],\n",
    "* $k$ is the multiplication factor of the material [unitless],\n",
    "* $S$ is a static source term [$n/\\text{cm}^2/\\text{s}$], and\n",
    "* $v$ is the neutron velocity, which for [thermal neutrons](http://en.wikipedia.org/wiki/Neutron_temperature) is 2.2e5 [$\\text{cm/s}$]"
   ]
  },
  {
   "cell_type": "markdown",
   "metadata": {},
   "source": [
    "## Make a Mesh\n",
    "\n",
    "PyNE Meshes can be used to compute all of the nuclear data needs here and for a semi-structured MOAB Hex8 meshes. The simulation, analysis, and visulaization here takes place entirely within memory."
   ]
  },
  {
   "cell_type": "code",
   "execution_count": 1,
   "metadata": {},
   "outputs": [],
   "source": [
    "# Import necessary modules\n",
    "from itertools import product\n",
    "from pyne.mesh import Mesh, NativeMeshTag\n",
    "from pyne.xs.cache import XSCache\n",
    "from pyne.xs.data_source import SimpleDataSource, NullDataSource\n",
    "from pyne.xs.channels import sigma_a, sigma_s\n",
    "from pyne.material import from_atom_frac\n",
    "import numpy as np\n",
    "from yt.frontends.moab.api import PyneMoabHex8Dataset\n",
    "from yt import SlicePlot\n",
    "from pymoab import types\n",
    "from matplotlib import animation\n",
    "from matplotlib.backends.backend_agg import FigureCanvasAgg\n",
    "from IPython.display import HTML\n",
    "from matplotlib.animation import FFMpegWriter\n",
    "import logging\n",
    "\n",
    "# Disable all logging outputs\n",
    "logging.disable(logging.CRITICAL)"
   ]
  },
  {
   "cell_type": "markdown",
   "metadata": {},
   "source": [
    "Initialize XSCache with group structure and data sources"
   ]
  },
  {
   "cell_type": "code",
   "execution_count": 2,
   "metadata": {},
   "outputs": [],
   "source": [
    "xsc = XSCache(group_struct=[0.026e-6, 0.024e-6],\n",
    "              data_sources=[SimpleDataSource, NullDataSource])"
   ]
  },
  {
   "cell_type": "markdown",
   "metadata": {},
   "source": [
    "## The Laplacian\n",
    "\n",
    "The functions in the following cells solve for the laplacian ($\\nabla^2$) for any index in in the mesh using a [3 point stencil](http://en.wikipedia.org/wiki/Five-point_stencil) along each axis. This implements reflecting boundary conditions along the edges of the domain.\n",
    "\n",
    "### Function: lpoint(idx, n, coords, shape, m)\n",
    "\n",
    " This function computes the left neighboring point of a given index `idx` along the `n`-th axis in a structured mesh `m`. The `coords` parameter represents the coordinates of the current entity, and the `shape` parameter is the shape of the structured mesh. The function implements reflecting boundary conditions along the edges of the domain by handling the cases when the index is at the boundary."
   ]
  },
  {
   "cell_type": "code",
   "execution_count": 3,
   "metadata": {},
   "outputs": [],
   "source": [
    "def lpoint(idx, n, coords, shape, m):\n",
    "    lidx = list(idx)\n",
    "    lidx[n] += 1 if idx[n] == 0 else -1\n",
    "    left = m.structured_get_hex(*lidx)\n",
    "    l = m.mesh.get_coords(left)[n]\n",
    "    if idx[n] == 0:\n",
    "        l = 2 * coords[n] - l\n",
    "    return left, l"
   ]
  },
  {
   "cell_type": "markdown",
   "metadata": {},
   "source": [
    "### Function: rpoint(idx, n, coords, shape, m)\n",
    "\n",
    "This function computes the right neighboring point of a given index `idx` along the `n`-th axis in a structured mesh `m`. The `coords` parameter represents the coordinates of the current entity, and the `shape` parameter is the shape of the structured mesh. The function implements reflecting boundary conditions along the edges of the domain by handling the cases when the index is at the boundary."
   ]
  },
  {
   "cell_type": "code",
   "execution_count": 4,
   "metadata": {},
   "outputs": [],
   "source": [
    "def rpoint(idx, n, coords, shape, m):\n",
    "    ridx = list(idx)\n",
    "    ridx[n] += -1 if idx[n] == shape[n] - 2 else 1\n",
    "    right = m.structured_get_hex(*ridx)\n",
    "    r = m.mesh.get_coords(right)[n]\n",
    "    if idx[n] == shape[n] - 2:\n",
    "        r = 2 * coords[n] - r\n",
    "    return right, r"
   ]
  },
  {
   "cell_type": "markdown",
   "metadata": {},
   "source": [
    "### Function: laplace(tag, idx, m, shape)\n",
    "\n",
    "This function computes the Laplacian of a tag (a scalar field associated with each mesh entity) at a given index `idx` in a structured mesh `m`. The `tag` parameter is the tag associated with the scalar field. The `shape` parameter is the shape of the structured mesh. The function calculates the Laplacian using a 3-point stencil along each axis. It uses the neighboring points to retrieve tag values to approximate the derivatives along each axis and then computes the Laplacian using the finite difference method.\n",
    "\n"
   ]
  },
  {
   "cell_type": "code",
   "execution_count": 5,
   "metadata": {},
   "outputs": [],
   "source": [
    "def laplace(tag, idx, m, shape):\n",
    "    ent = m.structured_get_hex(*idx)\n",
    "    coords = m.mesh.get_coords(ent)\n",
    "    lptag = 0.0\n",
    "    for n in range(3):\n",
    "        left, l = lpoint(idx, n, coords, shape, m)\n",
    "        right, r = rpoint(idx, n, coords, shape, m)\n",
    "        c = coords[n]\n",
    "\n",
    "        # Retrieve the tag values for the entities\n",
    "        tag_data_ent = m.mesh.tag_get_data(tag, ent)[0]\n",
    "        tag_data_left = m.mesh.tag_get_data(tag, left)[0]\n",
    "        tag_data_right = m.mesh.tag_get_data(tag, right)[0]\n",
    "        lptag += (((tag_data_right - tag_data_ent) / (r - c)) -\n",
    "                  ((tag_data_ent - tag_data_left) / (c - l))) / ((r - l) / 2)\n",
    "    return lptag"
   ]
  },
  {
   "cell_type": "markdown",
   "metadata": {},
   "source": [
    "## Solve in space\n",
    "\n",
    "The ``timestep()`` function sweeps through the entire mesh and computes the new flux everywhere.  This operation takes place entirely on the mesh object.\n",
    "\n",
    "### Function: timestep(m, dt)\n",
    "\n",
    "This function calculates the time step update for the variable `phi` on a given mesh `m` using a simple time integration method. The time step update is computed for each entity (hexahedral cell) in the mesh.\n",
    "\n",
    "#### Parameters:\n",
    "\n",
    "- `m`: The mesh object (of type `pyne.mesh.Mesh`) on which the time step update is performed.\n",
    "- `dt`: The time step size for the integration.\n",
    "\n",
    "#### Tags:\n",
    "\n",
    "The function uses several tags (scalar fields associated with each entity) on the mesh to retrieve and store data:\n",
    "\n",
    "- `D`: Tag representing the diffusion coefficient (`D_val`) associated with each entity (cell) in the mesh.\n",
    "- `k`: Tag representing the multiplication factor (`k_val`) associated with each entity in the mesh.\n",
    "- `S`: Tag representing the source term (`S_val`) associated with each entity in the mesh.\n",
    "- `Sigma_a`: Tag representing the absorption cross-section (`Sigma_a_val`) associated with each entity in the mesh.\n",
    "- `flux (phi)`: Tag representing the current value of the scalar field (`phi_val`) for each entity in the mesh.\n",
    "- `phi_next`: Tag representing the updated value of the scalar field (`phi_next_val`) after the time step for each entity in the mesh.\n",
    "\n",
    "#### Algorithm:\n",
    "\n",
    "1. The function retrieves the number of divisions along the x, y, and z axes (`nx`, `ny`, and `nz`) from the mesh object `m`.\n",
    "2. The shape of the mesh (`shape`) is computed as a tuple containing `(nx, ny, nz)`.\n",
    "3. Tags for various parameters (`D`, `k`, `S`, `Sigma_a`, `flux`, and `phi_next`) are retrieved from the mesh object using `m.mesh.tag_get_handle`.\n",
    "4. The function iterates over all the entities (hexahedral cells) in the mesh using the `product` function, which generates the Cartesian product of index ranges for each axis.\n",
    "5. For each entity, the function retrieves the values of `phi`, `D`, `k`, `Sigma_a`, and `S` associated with that entity.\n",
    "6. Using the retrieved values, the function computes the new value of the scalar field `phi_next_val` at the next time step for that entity. The calculation involves solving a simple diffusion equation with a source term and a multiplication factor `k`.\n",
    "7. The calculated `phi_next_val` is stored in the `phi_next` tag for the current entity.\n",
    "8. After the iteration over all entities is complete, the function updates the `phi` tag with the newly calculated `phi_next` values using `m.mesh.tag_set_data`.\n",
    "\n",
    "#### Time Integration:\n",
    "\n",
    "The time integration method used in this function is explicit, where the value of the scalar field at the next time step (`phi_next`) is directly computed from the values at the current time step (`phi`) without the need for solving a system of equations. The time integration method is a first-order approximation based on a finite difference formulation.\n",
    "\n",
    "#### Notes:\n",
    "\n",
    "- The calculated `phi_next_val` is clamped to a minimum value of 0 to ensure non-negativity.\n",
    "- The `dt` parameter is used to advance the time step and control the rate of change in the scalar field."
   ]
  },
  {
   "cell_type": "code",
   "execution_count": 6,
   "metadata": {},
   "outputs": [],
   "source": [
    "def timestep(m, dt):\n",
    "    nx = len(m.structured_get_divisions(\"x\"))\n",
    "    ny = len(m.structured_get_divisions(\"y\"))\n",
    "    nz = len(m.structured_get_divisions(\"z\"))\n",
    "    shape = (nx, ny, nz)\n",
    "    D = m.mesh.tag_get_handle(\"D\")\n",
    "    k = m.mesh.tag_get_handle(\"k\")\n",
    "    S = m.mesh.tag_get_handle(\"S\")\n",
    "    Sigma_a = m.mesh.tag_get_handle(\"Sigma_a\")\n",
    "    phi = m.mesh.tag_get_handle(\"flux\")\n",
    "    phi_next = m.mesh.tag_get_handle(\"phi_next\")\n",
    "    for idx in product(*[range(xyz - 1) for xyz in shape]):\n",
    "        ent = m.structured_get_hex(*idx)\n",
    "        # Get the value of phi for the entity\n",
    "        phi_val = m.mesh.tag_get_data(phi, ent)[0]\n",
    "        # Get the value of D for the entity\n",
    "        D_val = m.mesh.tag_get_data(D, ent)[0]\n",
    "        # Get the value of k for the entity\n",
    "        k_val = m.mesh.tag_get_data(k, ent)[0]\n",
    "        # Get the value of Sigma_a for the entity\n",
    "        Sigma_a_val = m.mesh.tag_get_data(Sigma_a, ent)[0]\n",
    "        # Get the value of S for the entity\n",
    "        S_val = m.mesh.tag_get_data(S, ent)[0]\n",
    "\n",
    "        # Perform calculations using the retrieved values\n",
    "        phi_next_val = (max(\n",
    "            D_val * laplace(phi, idx, m, shape) +\n",
    "            (k_val - 1.0) * Sigma_a_val * phi_val, 0.0\n",
    "        ) + S_val) * dt * 2.2e5 + phi_val\n",
    "\n",
    "        # Store the calculated phi_next_val back to the phi_next tag for the entity\n",
    "        m.mesh.tag_set_data(phi_next, ent, phi_next_val)\n",
    "\n",
    "    ents = m.mesh.get_entities_by_type(\n",
    "        m.mesh.get_root_set(), types.MBENTITYSET)\n",
    "    # Retrieve all phi_next values for entities\n",
    "    phi_val_next = m.mesh.tag_get_data(phi_next, ents)\n",
    "    # Update the phi tag with the new phi_next values\n",
    "    m.mesh.tag_set_data(phi, ents, phi_val_next)"
   ]
  },
  {
   "cell_type": "markdown",
   "metadata": {},
   "source": [
    "## Reactor\n",
    "\n",
    "This setups up a simple light water reactor fuel pin in a water cell. Note that our cells are allowed to have varing aspect ratios.  This allows us to be coarsely refined inside of the pin, finely refined around the edge of the pin, and then have a different coarse refinement out in the coolant.\n",
    "\n",
    "### Function: isinrod(ent, rx, radius=0.4)\n",
    "\n",
    "This function determines whether a given entity (hexahedral cell) is inside a control rod based on its coordinates. It takes the following parameters:\n",
    "\n",
    "- `ent`: The entity (cell) for which to check if it is inside the control rod.\n",
    "- `rx`: The mesh object (of type `pyne.mesh.Mesh`) representing the reactor geometry.\n",
    "- `radius`: The radius of the control rod. The default value is 0.4.\n",
    "\n",
    "The function calculates the square of the distance from the center of the mesh cell (`ent`) to the origin (0, 0) in the x-y plane. If this distance squared is less than or equal to the square of the control rod radius, the function returns `True`, indicating that the entity is inside the control rod. Otherwise, it returns `False`."
   ]
  },
  {
   "cell_type": "code",
   "execution_count": 7,
   "metadata": {},
   "outputs": [],
   "source": [
    "def isinrod(ent, rx, radius=0.4):\n",
    "    coord = rx.mesh.get_coords(ent)\n",
    "    # Returns whether an entity is in a control rod\n",
    "    return (coord[0] ** 2 + coord[1] ** 2) <= radius ** 2"
   ]
  },
  {
   "cell_type": "markdown",
   "metadata": {},
   "source": [
    "\n",
    "### Function: create_reactor(multfact=1.0, radius=0.4)\n",
    "\n",
    "This function sets up a simple light water reactor fuel pin in a water cell. It creates a mesh representing the reactor geometry and assigns initial conditions for various parameters associated with each entity (cell) in the mesh. The function takes the following parameters:\n",
    "\n",
    "- `multfact`: A multiplier factor for the multiplication factor (`k`) of the reactor. The default value is 1.0.\n",
    "- `radius`: The radius of the control rod. The default value is 0.4.\n",
    "\n",
    "#### Materials:\n",
    "\n",
    "The function defines two materials:\n",
    "- `fuel`: Represents the fuel material with a composition containing uranium-235, uranium-238, and oxygen-16, and a density of 10.7 g/cm^3.\n",
    "- `cool`: Represents the coolant material with a composition containing hydrogen-1 and oxygen-16, and a density of 1.0 g/cm^3.\n",
    "\n",
    "#### Mesh and Tags:\n",
    "\n",
    "The function creates a mesh (`rx`) with structured coordinates in three dimensions (x, y, z) based on specified `xpoints`, `ypoints`, and `zpoints`. It also creates several tags (scalar fields associated with each entity) on the mesh to store and retrieve data:\n",
    "- `D`: Represents the diffusion coefficient for each entity in the mesh.\n",
    "- `k`: Represents the multiplication factor for each entity in the mesh.\n",
    "- `S`: Represents the source term for each entity in the mesh.\n",
    "- `Sigma_a`: Represents the absorption cross-section for each entity in the mesh.\n",
    "- `flux (phi)`: Represents the initial value of the scalar field (flux) for each entity in the mesh.\n",
    "- `phi_next`: Represents the updated value of the scalar field (flux) after the time step for each entity in the mesh.\n",
    "\n",
    "#### Algorithm:\n",
    "\n",
    "The function iterates over all entities in the mesh (`rx`). For each entity, it determines whether it is inside the control rod using the `isinrod` function. Based on whether the entity is inside the control rod or not, it assigns the corresponding values of `D`, `Sigma_a`, `phi`, and `k` for the entity based on the materials and the specified `multfact` and `radius`.\n",
    "\n",
    "After setting up the initial conditions for all entities, the `D`, `Sigma_a`, `flux`, `k`, `S`, and `phi_next` tags are updated with the computed values for each entity in the mesh.\n",
    "\n",
    "#### Notes:\n",
    "\n",
    "- The diffusion coefficient `D` is calculated using the material properties and cross-section data (retrieved using the `xsc` cross-section cache).\n",
    "- The flux `phi` for entities inside the control rod is set to a constant value (4e14) while the flux for entities outside the control rod varies based on their distance from the center (decreasing proportionally with the square of the distance).\n",
    "- The multiplication factor `k` for entities inside the control rod is set to the specified `multfact`, while for entities outside the control rod, it is set to 0.0.\n",
    "- The `S` and `phi_next` tags are initially set to 0.0.\n"
   ]
  },
  {
   "cell_type": "code",
   "execution_count": 8,
   "metadata": {},
   "outputs": [],
   "source": [
    "def create_reactor(multfact=1.0, radius=0.4):\n",
    "    fuel = from_atom_frac(\n",
    "        {'U235': 0.045, 'U238': 0.955, 'O16': 2.0}, density=10.7)\n",
    "    cool = from_atom_frac({'H1': 2.0, 'O16': 1.0}, density=1.0)\n",
    "    xpoints = [0.0, 0.075, 0.15, 0.225] + \\\n",
    "        list(np.arange(0.3, 0.7, 0.025)) + list(np.arange(0.7, 1.201, 0.05))\n",
    "    ypoints = xpoints\n",
    "    zpoints = np.linspace(0.0, 1.0, 8)\n",
    "    # Make Mesh\n",
    "    rx = Mesh(structured_coords=[xpoints, ypoints, zpoints], structured=True)\n",
    "    # Add Tags\n",
    "    rx.D = NativeMeshTag(size=1, dtype=float)\n",
    "    rx.k = NativeMeshTag(size=1, dtype=float)\n",
    "    rx.S = NativeMeshTag(size=1, dtype=float)\n",
    "    rx.Sigma_a = NativeMeshTag(size=1, dtype=float)\n",
    "    rx.flux = NativeMeshTag(size=1, dtype=float)\n",
    "    rx.phi_next = NativeMeshTag(size=1, dtype=float)\n",
    "    # Assign initial conditions\n",
    "    Ds = []\n",
    "    Sigma_as = []\n",
    "    phis = []\n",
    "    ks = []\n",
    "    for i, mat, ent in rx:\n",
    "        if isinrod(ent, rx, radius=radius):\n",
    "            Ds.append(1.0 / (3.0 * fuel.density * 1e-24 *\n",
    "                      sigma_s(fuel, xs_cache=xsc)))\n",
    "            Sigma_as.append(fuel.density * 1e-24 * sigma_a(fuel, xs_cache=xsc))\n",
    "            phis.append(4e14)\n",
    "            ks.append(multfact)\n",
    "        else:\n",
    "            Ds.append(1.0 / (3.0 * cool.density * 1e-24 *\n",
    "                      sigma_s(cool, xs_cache=xsc)))\n",
    "            Sigma_as.append(cool.density * 1e-24 * sigma_a(cool, xs_cache=xsc))\n",
    "            r2 = (rx.mesh.get_coords(ent)[:2]**2).sum()\n",
    "            phis.append(4e14 * radius**2 / r2 if r2 < 0.7**2 else 0.0)\n",
    "            ks.append(0.0)\n",
    "    rx.D[:] = np.array(Ds)[:, 0]\n",
    "    rx.Sigma_a[:] = np.array(Sigma_as)[:, 0]\n",
    "    rx.flux[:] = np.array(phis)[:]\n",
    "    rx.k[:] = ks\n",
    "    rx.S[:] = 0.0\n",
    "    rx.phi_next[:] = 0.0\n",
    "    return rx\n",
    "\n",
    "\n",
    "rx = create_reactor()"
   ]
  },
  {
   "cell_type": "markdown",
   "metadata": {},
   "source": [
    "## Time Steps\n",
    "The code performs a specified number of time steps (`n`) on the reactor mesh (`rx`). It uses the `timestep` function previously defined to update the `phi_next` values in the mesh for each time step. The time step size used in the `timestep` function is 2.5e-31."
   ]
  },
  {
   "cell_type": "code",
   "execution_count": 9,
   "metadata": {},
   "outputs": [],
   "source": [
    "# Perform time steps\n",
    "n = 2\n",
    "for i in range(n):\n",
    "    timestep(rx, 2.5e-31)\n"
   ]
  },
  {
   "cell_type": "markdown",
   "metadata": {},
   "source": [
    "## Copy Flux Values\n",
    "After the time steps are completed, the calculated `phi_next` values are copied back to the `flux` tag in the reactor mesh."
   ]
  },
  {
   "cell_type": "code",
   "execution_count": 10,
   "metadata": {},
   "outputs": [],
   "source": [
    "rx.flux[:] = rx.phi_next[:]"
   ]
  },
  {
   "cell_type": "markdown",
   "metadata": {},
   "source": [
    "## Create and Display a Slice Plot\n",
    "The code uses the reactor mesh `rx` to create a `PyneMoabHex8Dataset` object named `pf`. This object allows visualizing the scalar field data (flux values) on the reactor mesh using a slice plot."
   ]
  },
  {
   "cell_type": "code",
   "execution_count": 11,
   "metadata": {},
   "outputs": [
    {
     "data": {
      "text/html": [
       "<img style=\"max-width:100%;max-height:100%;\" src=\"data:image/png;base64,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\"><br>"
      ],
      "text/plain": [
       "<yt.visualization.plot_window.AxisAlignedSlicePlot at 0x7f23f6c71e10>"
      ]
     },
     "metadata": {},
     "output_type": "display_data"
    }
   ],
   "source": [
    "# Create a PyneMoabHex8Dataset using the reactor mesh\n",
    "pf = PyneMoabHex8Dataset(rx)\n",
    "\n",
    "# Set the field and axis for the slice plot\n",
    "field = 'flux'\n",
    "axis = 'z'\n",
    "\n",
    "# Create the SlicePlot object\n",
    "s = SlicePlot(pf, axis, field, origin='native')\n",
    "\n",
    "# Display the plot\n",
    "s.display()\n"
   ]
  },
  {
   "cell_type": "markdown",
   "metadata": {},
   "source": [
    "### Solve in time\n",
    "\n",
    "The `render` function steps through time calling the `timestep` function and then creating an image.  The images that are generated are then dumped into a movie."
   ]
  },
  {
   "cell_type": "code",
   "execution_count": 12,
   "metadata": {},
   "outputs": [],
   "source": []
  }
 ],
 "metadata": {
  "kernelspec": {
   "display_name": "Python 3",
   "language": "python",
   "name": "python3"
  },
  "language_info": {
   "codemirror_mode": {
    "name": "ipython",
    "version": 3
   },
   "file_extension": ".py",
   "mimetype": "text/x-python",
   "name": "python",
   "nbconvert_exporter": "python",
   "pygments_lexer": "ipython3",
   "version": "3.10.6"
  }
 },
 "nbformat": 4,
 "nbformat_minor": 1
}
