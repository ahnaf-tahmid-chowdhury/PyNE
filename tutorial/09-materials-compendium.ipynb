{
 "cells": [
  {
   "cell_type": "markdown",
   "metadata": {},
   "source": [
    "# Materials Compendium\n",
    "\n",
    "In this tutorial, we will access data from the \"Compendium of Material Composition Data for Radiation Transport Modeling\" provided by the Pacific Northwest National Laboratory (PNNL). This data contains material properties, including material density, atom density, elemental and isotopic compositions provided as weight, atom fraction, and atom density. The data file is intended for radiation transport modeling and can be used with various radiation transport codes.\n",
    "\n",
    "## Accessing the Materials Compendium\n",
    "To access the data from the Materials Compendium, we will use the `MaterialsCompendium` module from `pyne.pnnl`. First, let's import the required modules and see how many materials are in the compendium:"
   ]
  },
  {
   "cell_type": "code",
   "execution_count": 74,
   "metadata": {},
   "outputs": [
    {
     "name": "stdout",
     "output_type": "stream",
     "text": [
      "Number of materials in the Compendium: 411\n",
      "First material name: Bone Equivalent Plastic, B-110\n",
      "Number of elements in the first material: 6\n"
     ]
    }
   ],
   "source": [
    "from pyne.pnnl import MaterialsCompendium\n",
    "\n",
    "# Get the number of materials in the Compendium\n",
    "num_materials = len(MaterialsCompendium)\n",
    "print(\"Number of materials in the Compendium:\", num_materials)\n",
    "\n",
    "# Get the name of the first material\n",
    "first_material_name = MaterialsCompendium[0].Name\n",
    "print(\"First material name:\", first_material_name)\n",
    "\n",
    "# Get the number of elements in the first material\n",
    "num_elements_in_first_material = len(MaterialsCompendium[0].Elements)\n",
    "print(\"Number of elements in the first material:\", num_elements_in_first_material)\n"
   ]
  }
 ],
 "metadata": {
  "kernelspec": {
   "display_name": "nuclear-boy",
   "language": "python",
   "name": "python3"
  },
  "language_info": {
   "codemirror_mode": {
    "name": "ipython",
    "version": 3
   },
   "file_extension": ".py",
   "mimetype": "text/x-python",
   "name": "python",
   "nbconvert_exporter": "python",
   "pygments_lexer": "ipython3",
   "version": "3.10.6"
  },
  "orig_nbformat": 4
 },
 "nbformat": 4,
 "nbformat_minor": 2
}
