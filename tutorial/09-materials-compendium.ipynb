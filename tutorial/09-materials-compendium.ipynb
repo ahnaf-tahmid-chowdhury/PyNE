{
 "cells": [
  {
   "cell_type": "markdown",
   "metadata": {},
   "source": [
    "# Materials Compendium\n",
    "\n",
    "In this tutorial we will parses the JSON data from the \"Compendium of Material\n",
    "Composition Data for Radiation Transport Modeling\" provided by the Pacific\n",
    "Northwest National Laboratory (PNNL). The JSON file contains material properties,\n",
    "including material density, atom density, elemental and isotopic compositions\n",
    "provided as weight, atom fraction, and atom density. The data in the JSON file\n",
    "is intended for radiation transport modeling and can be used with various radiation\n",
    "transport codes."
   ]
  },
  {
   "cell_type": "code",
   "execution_count": 1,
   "metadata": {},
   "outputs": [],
   "source": [
    "from pyne.pnnl import MaterialsCompendium"
   ]
  }
 ],
 "metadata": {
  "kernelspec": {
   "display_name": "nuclear-boy",
   "language": "python",
   "name": "python3"
  },
  "language_info": {
   "codemirror_mode": {
    "name": "ipython",
    "version": 3
   },
   "file_extension": ".py",
   "mimetype": "text/x-python",
   "name": "python",
   "nbconvert_exporter": "python",
   "pygments_lexer": "ipython3",
   "version": "3.11.2"
  },
  "orig_nbformat": 4
 },
 "nbformat": 4,
 "nbformat_minor": 2
}
